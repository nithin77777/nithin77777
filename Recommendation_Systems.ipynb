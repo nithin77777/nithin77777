{
  "nbformat": 4,
  "nbformat_minor": 0,
  "metadata": {
    "colab": {
      "name": "Recommendation_Systems.ipynb",
      "provenance": [],
      "mount_file_id": "1M_G1FWoG_ZA2FAB7n_5u60qJEp-28N7V",
      "authorship_tag": "ABX9TyNntVW4xNirTjwVwbCtolXk",
      "include_colab_link": true
    },
    "kernelspec": {
      "name": "python3",
      "display_name": "Python 3"
    },
    "language_info": {
      "name": "python"
    }
  },
  "cells": [
    {
      "cell_type": "markdown",
      "metadata": {
        "id": "view-in-github",
        "colab_type": "text"
      },
      "source": [
        "<a href=\"https://colab.research.google.com/github/nithin77777/nithin77777/blob/main/Recommendation_Systems.ipynb\" target=\"_parent\"><img src=\"https://colab.research.google.com/assets/colab-badge.svg\" alt=\"Open In Colab\"/></a>"
      ]
    },
    {
      "cell_type": "markdown",
      "source": [
        "## Importing Libraries"
      ],
      "metadata": {
        "id": "8HzeTENs2OB4"
      }
    },
    {
      "cell_type": "code",
      "execution_count": 1,
      "metadata": {
        "id": "cg3FVX0m1xpC"
      },
      "outputs": [],
      "source": [
        "import numpy as np\n",
        "import pandas as pd\n",
        "import matplotlib.pyplot as plt\n",
        "import seaborn as sns\n",
        "import sklearn\n",
        "import os"
      ]
    },
    {
      "cell_type": "code",
      "source": [
        "os.chdir('/content/drive/MyDrive/Project_Recommendation_Systems/Data Set')\n"
      ],
      "metadata": {
        "id": "qeTOS8Np2_5Q"
      },
      "execution_count": 2,
      "outputs": []
    },
    {
      "cell_type": "markdown",
      "source": [
        "## 1. Import the necessary libraries and read the provided CSVs as a data frame and perform the below steps."
      ],
      "metadata": {
        "id": "YNClzrz834Rk"
      }
    },
    {
      "cell_type": "markdown",
      "source": [
        "### 1a) A. Merge all the provided CSVs into one data-frame. "
      ],
      "metadata": {
        "id": "q-qcfYD98txJ"
      }
    },
    {
      "cell_type": "code",
      "source": [
        "files = os.listdir('/content/drive/MyDrive/Project_Recommendation_Systems/Data Set')\n",
        "files"
      ],
      "metadata": {
        "colab": {
          "base_uri": "https://localhost:8080/"
        },
        "id": "xmxFPfl383uW",
        "outputId": "a9c87a1b-c982-40f3-96ae-161b8a5f8da3"
      },
      "execution_count": 3,
      "outputs": [
        {
          "output_type": "execute_result",
          "data": {
            "text/plain": [
              "['phone_user_review_file_2.csv',\n",
              " 'phone_user_review_file_1.csv',\n",
              " 'phone_user_review_file_4.csv',\n",
              " 'phone_user_review_file_6.csv',\n",
              " 'phone_user_review_file_3.csv',\n",
              " 'phone_user_review_file_5.csv']"
            ]
          },
          "metadata": {},
          "execution_count": 3
        }
      ]
    },
    {
      "cell_type": "code",
      "source": [
        "df1 = pd.read_csv('phone_user_review_file_1.csv',encoding='latin-1')\n",
        "df2 = pd.read_csv('phone_user_review_file_2.csv',encoding='latin-1')\n",
        "df3 = pd.read_csv('phone_user_review_file_3.csv',encoding='latin-1')\n",
        "df4 = pd.read_csv('phone_user_review_file_4.csv',encoding='latin-1')\n",
        "df5 = pd.read_csv('phone_user_review_file_5.csv',encoding='latin-1')\n",
        "df6 = pd.read_csv('phone_user_review_file_6.csv',encoding='latin-1')"
      ],
      "metadata": {
        "id": "F49yasaP_O1V"
      },
      "execution_count": 4,
      "outputs": []
    },
    {
      "cell_type": "code",
      "source": [
        "Dataframes_merge = [df1, df2, df3, df4, df5, df6]"
      ],
      "metadata": {
        "id": "vvLLX1sr_6wc"
      },
      "execution_count": 5,
      "outputs": []
    },
    {
      "cell_type": "code",
      "source": [
        "df1.head()"
      ],
      "metadata": {
        "colab": {
          "base_uri": "https://localhost:8080/",
          "height": 337
        },
        "id": "lQPBN_lLC8f8",
        "outputId": "81c31963-5cfe-463e-de80-84c871b6d834"
      },
      "execution_count": 6,
      "outputs": [
        {
          "output_type": "execute_result",
          "data": {
            "text/html": [
              "\n",
              "  <div id=\"df-b0abcf11-b8b9-4fa7-8bbb-3dcbe7a7b7cb\">\n",
              "    <div class=\"colab-df-container\">\n",
              "      <div>\n",
              "<style scoped>\n",
              "    .dataframe tbody tr th:only-of-type {\n",
              "        vertical-align: middle;\n",
              "    }\n",
              "\n",
              "    .dataframe tbody tr th {\n",
              "        vertical-align: top;\n",
              "    }\n",
              "\n",
              "    .dataframe thead th {\n",
              "        text-align: right;\n",
              "    }\n",
              "</style>\n",
              "<table border=\"1\" class=\"dataframe\">\n",
              "  <thead>\n",
              "    <tr style=\"text-align: right;\">\n",
              "      <th></th>\n",
              "      <th>phone_url</th>\n",
              "      <th>date</th>\n",
              "      <th>lang</th>\n",
              "      <th>country</th>\n",
              "      <th>source</th>\n",
              "      <th>domain</th>\n",
              "      <th>score</th>\n",
              "      <th>score_max</th>\n",
              "      <th>extract</th>\n",
              "      <th>author</th>\n",
              "      <th>product</th>\n",
              "    </tr>\n",
              "  </thead>\n",
              "  <tbody>\n",
              "    <tr>\n",
              "      <th>0</th>\n",
              "      <td>/cellphones/samsung-galaxy-s8/</td>\n",
              "      <td>5/2/2017</td>\n",
              "      <td>en</td>\n",
              "      <td>us</td>\n",
              "      <td>Verizon Wireless</td>\n",
              "      <td>verizonwireless.com</td>\n",
              "      <td>10.0</td>\n",
              "      <td>10.0</td>\n",
              "      <td>As a diehard Samsung fan who has had every Sam...</td>\n",
              "      <td>CarolAnn35</td>\n",
              "      <td>Samsung Galaxy S8</td>\n",
              "    </tr>\n",
              "    <tr>\n",
              "      <th>1</th>\n",
              "      <td>/cellphones/samsung-galaxy-s8/</td>\n",
              "      <td>4/28/2017</td>\n",
              "      <td>en</td>\n",
              "      <td>us</td>\n",
              "      <td>Phone Arena</td>\n",
              "      <td>phonearena.com</td>\n",
              "      <td>10.0</td>\n",
              "      <td>10.0</td>\n",
              "      <td>Love the phone. the phone is sleek and smooth ...</td>\n",
              "      <td>james0923</td>\n",
              "      <td>Samsung Galaxy S8</td>\n",
              "    </tr>\n",
              "    <tr>\n",
              "      <th>2</th>\n",
              "      <td>/cellphones/samsung-galaxy-s8/</td>\n",
              "      <td>5/4/2017</td>\n",
              "      <td>en</td>\n",
              "      <td>us</td>\n",
              "      <td>Amazon</td>\n",
              "      <td>amazon.com</td>\n",
              "      <td>6.0</td>\n",
              "      <td>10.0</td>\n",
              "      <td>Adequate feel. Nice heft. Processor's still sl...</td>\n",
              "      <td>R. Craig</td>\n",
              "      <td>Samsung Galaxy S8 (64GB) G950U 5.8\" 4G LTE Unl...</td>\n",
              "    </tr>\n",
              "    <tr>\n",
              "      <th>3</th>\n",
              "      <td>/cellphones/samsung-galaxy-s8/</td>\n",
              "      <td>5/2/2017</td>\n",
              "      <td>en</td>\n",
              "      <td>us</td>\n",
              "      <td>Samsung</td>\n",
              "      <td>samsung.com</td>\n",
              "      <td>9.2</td>\n",
              "      <td>10.0</td>\n",
              "      <td>Never disappointed. One of the reasons I've be...</td>\n",
              "      <td>Buster2020</td>\n",
              "      <td>Samsung Galaxy S8 64GB (AT&amp;T)</td>\n",
              "    </tr>\n",
              "    <tr>\n",
              "      <th>4</th>\n",
              "      <td>/cellphones/samsung-galaxy-s8/</td>\n",
              "      <td>5/11/2017</td>\n",
              "      <td>en</td>\n",
              "      <td>us</td>\n",
              "      <td>Verizon Wireless</td>\n",
              "      <td>verizonwireless.com</td>\n",
              "      <td>4.0</td>\n",
              "      <td>10.0</td>\n",
              "      <td>I've now found that i'm in a group of people t...</td>\n",
              "      <td>S Ate Mine</td>\n",
              "      <td>Samsung Galaxy S8</td>\n",
              "    </tr>\n",
              "  </tbody>\n",
              "</table>\n",
              "</div>\n",
              "      <button class=\"colab-df-convert\" onclick=\"convertToInteractive('df-b0abcf11-b8b9-4fa7-8bbb-3dcbe7a7b7cb')\"\n",
              "              title=\"Convert this dataframe to an interactive table.\"\n",
              "              style=\"display:none;\">\n",
              "        \n",
              "  <svg xmlns=\"http://www.w3.org/2000/svg\" height=\"24px\"viewBox=\"0 0 24 24\"\n",
              "       width=\"24px\">\n",
              "    <path d=\"M0 0h24v24H0V0z\" fill=\"none\"/>\n",
              "    <path d=\"M18.56 5.44l.94 2.06.94-2.06 2.06-.94-2.06-.94-.94-2.06-.94 2.06-2.06.94zm-11 1L8.5 8.5l.94-2.06 2.06-.94-2.06-.94L8.5 2.5l-.94 2.06-2.06.94zm10 10l.94 2.06.94-2.06 2.06-.94-2.06-.94-.94-2.06-.94 2.06-2.06.94z\"/><path d=\"M17.41 7.96l-1.37-1.37c-.4-.4-.92-.59-1.43-.59-.52 0-1.04.2-1.43.59L10.3 9.45l-7.72 7.72c-.78.78-.78 2.05 0 2.83L4 21.41c.39.39.9.59 1.41.59.51 0 1.02-.2 1.41-.59l7.78-7.78 2.81-2.81c.8-.78.8-2.07 0-2.86zM5.41 20L4 18.59l7.72-7.72 1.47 1.35L5.41 20z\"/>\n",
              "  </svg>\n",
              "      </button>\n",
              "      \n",
              "  <style>\n",
              "    .colab-df-container {\n",
              "      display:flex;\n",
              "      flex-wrap:wrap;\n",
              "      gap: 12px;\n",
              "    }\n",
              "\n",
              "    .colab-df-convert {\n",
              "      background-color: #E8F0FE;\n",
              "      border: none;\n",
              "      border-radius: 50%;\n",
              "      cursor: pointer;\n",
              "      display: none;\n",
              "      fill: #1967D2;\n",
              "      height: 32px;\n",
              "      padding: 0 0 0 0;\n",
              "      width: 32px;\n",
              "    }\n",
              "\n",
              "    .colab-df-convert:hover {\n",
              "      background-color: #E2EBFA;\n",
              "      box-shadow: 0px 1px 2px rgba(60, 64, 67, 0.3), 0px 1px 3px 1px rgba(60, 64, 67, 0.15);\n",
              "      fill: #174EA6;\n",
              "    }\n",
              "\n",
              "    [theme=dark] .colab-df-convert {\n",
              "      background-color: #3B4455;\n",
              "      fill: #D2E3FC;\n",
              "    }\n",
              "\n",
              "    [theme=dark] .colab-df-convert:hover {\n",
              "      background-color: #434B5C;\n",
              "      box-shadow: 0px 1px 3px 1px rgba(0, 0, 0, 0.15);\n",
              "      filter: drop-shadow(0px 1px 2px rgba(0, 0, 0, 0.3));\n",
              "      fill: #FFFFFF;\n",
              "    }\n",
              "  </style>\n",
              "\n",
              "      <script>\n",
              "        const buttonEl =\n",
              "          document.querySelector('#df-b0abcf11-b8b9-4fa7-8bbb-3dcbe7a7b7cb button.colab-df-convert');\n",
              "        buttonEl.style.display =\n",
              "          google.colab.kernel.accessAllowed ? 'block' : 'none';\n",
              "\n",
              "        async function convertToInteractive(key) {\n",
              "          const element = document.querySelector('#df-b0abcf11-b8b9-4fa7-8bbb-3dcbe7a7b7cb');\n",
              "          const dataTable =\n",
              "            await google.colab.kernel.invokeFunction('convertToInteractive',\n",
              "                                                     [key], {});\n",
              "          if (!dataTable) return;\n",
              "\n",
              "          const docLinkHtml = 'Like what you see? Visit the ' +\n",
              "            '<a target=\"_blank\" href=https://colab.research.google.com/notebooks/data_table.ipynb>data table notebook</a>'\n",
              "            + ' to learn more about interactive tables.';\n",
              "          element.innerHTML = '';\n",
              "          dataTable['output_type'] = 'display_data';\n",
              "          await google.colab.output.renderOutput(dataTable, element);\n",
              "          const docLink = document.createElement('div');\n",
              "          docLink.innerHTML = docLinkHtml;\n",
              "          element.appendChild(docLink);\n",
              "        }\n",
              "      </script>\n",
              "    </div>\n",
              "  </div>\n",
              "  "
            ],
            "text/plain": [
              "                        phone_url  ...                                            product\n",
              "0  /cellphones/samsung-galaxy-s8/  ...                                  Samsung Galaxy S8\n",
              "1  /cellphones/samsung-galaxy-s8/  ...                                  Samsung Galaxy S8\n",
              "2  /cellphones/samsung-galaxy-s8/  ...  Samsung Galaxy S8 (64GB) G950U 5.8\" 4G LTE Unl...\n",
              "3  /cellphones/samsung-galaxy-s8/  ...                      Samsung Galaxy S8 64GB (AT&T)\n",
              "4  /cellphones/samsung-galaxy-s8/  ...                                  Samsung Galaxy S8\n",
              "\n",
              "[5 rows x 11 columns]"
            ]
          },
          "metadata": {},
          "execution_count": 6
        }
      ]
    },
    {
      "cell_type": "code",
      "source": [
        "df = pd.concat(Dataframes_merge, join='outer')"
      ],
      "metadata": {
        "id": "zSuidDZWEktx"
      },
      "execution_count": 7,
      "outputs": []
    },
    {
      "cell_type": "code",
      "source": [
        "df.head()"
      ],
      "metadata": {
        "colab": {
          "base_uri": "https://localhost:8080/",
          "height": 337
        },
        "id": "kwB3OR7DBgOd",
        "outputId": "8c8543a5-ef49-4c17-d5e6-d9984ee7cfb7"
      },
      "execution_count": 8,
      "outputs": [
        {
          "output_type": "execute_result",
          "data": {
            "text/html": [
              "\n",
              "  <div id=\"df-0b781364-4d4c-4f96-bef3-cdf8f3095fea\">\n",
              "    <div class=\"colab-df-container\">\n",
              "      <div>\n",
              "<style scoped>\n",
              "    .dataframe tbody tr th:only-of-type {\n",
              "        vertical-align: middle;\n",
              "    }\n",
              "\n",
              "    .dataframe tbody tr th {\n",
              "        vertical-align: top;\n",
              "    }\n",
              "\n",
              "    .dataframe thead th {\n",
              "        text-align: right;\n",
              "    }\n",
              "</style>\n",
              "<table border=\"1\" class=\"dataframe\">\n",
              "  <thead>\n",
              "    <tr style=\"text-align: right;\">\n",
              "      <th></th>\n",
              "      <th>phone_url</th>\n",
              "      <th>date</th>\n",
              "      <th>lang</th>\n",
              "      <th>country</th>\n",
              "      <th>source</th>\n",
              "      <th>domain</th>\n",
              "      <th>score</th>\n",
              "      <th>score_max</th>\n",
              "      <th>extract</th>\n",
              "      <th>author</th>\n",
              "      <th>product</th>\n",
              "    </tr>\n",
              "  </thead>\n",
              "  <tbody>\n",
              "    <tr>\n",
              "      <th>0</th>\n",
              "      <td>/cellphones/samsung-galaxy-s8/</td>\n",
              "      <td>5/2/2017</td>\n",
              "      <td>en</td>\n",
              "      <td>us</td>\n",
              "      <td>Verizon Wireless</td>\n",
              "      <td>verizonwireless.com</td>\n",
              "      <td>10.0</td>\n",
              "      <td>10.0</td>\n",
              "      <td>As a diehard Samsung fan who has had every Sam...</td>\n",
              "      <td>CarolAnn35</td>\n",
              "      <td>Samsung Galaxy S8</td>\n",
              "    </tr>\n",
              "    <tr>\n",
              "      <th>1</th>\n",
              "      <td>/cellphones/samsung-galaxy-s8/</td>\n",
              "      <td>4/28/2017</td>\n",
              "      <td>en</td>\n",
              "      <td>us</td>\n",
              "      <td>Phone Arena</td>\n",
              "      <td>phonearena.com</td>\n",
              "      <td>10.0</td>\n",
              "      <td>10.0</td>\n",
              "      <td>Love the phone. the phone is sleek and smooth ...</td>\n",
              "      <td>james0923</td>\n",
              "      <td>Samsung Galaxy S8</td>\n",
              "    </tr>\n",
              "    <tr>\n",
              "      <th>2</th>\n",
              "      <td>/cellphones/samsung-galaxy-s8/</td>\n",
              "      <td>5/4/2017</td>\n",
              "      <td>en</td>\n",
              "      <td>us</td>\n",
              "      <td>Amazon</td>\n",
              "      <td>amazon.com</td>\n",
              "      <td>6.0</td>\n",
              "      <td>10.0</td>\n",
              "      <td>Adequate feel. Nice heft. Processor's still sl...</td>\n",
              "      <td>R. Craig</td>\n",
              "      <td>Samsung Galaxy S8 (64GB) G950U 5.8\" 4G LTE Unl...</td>\n",
              "    </tr>\n",
              "    <tr>\n",
              "      <th>3</th>\n",
              "      <td>/cellphones/samsung-galaxy-s8/</td>\n",
              "      <td>5/2/2017</td>\n",
              "      <td>en</td>\n",
              "      <td>us</td>\n",
              "      <td>Samsung</td>\n",
              "      <td>samsung.com</td>\n",
              "      <td>9.2</td>\n",
              "      <td>10.0</td>\n",
              "      <td>Never disappointed. One of the reasons I've be...</td>\n",
              "      <td>Buster2020</td>\n",
              "      <td>Samsung Galaxy S8 64GB (AT&amp;T)</td>\n",
              "    </tr>\n",
              "    <tr>\n",
              "      <th>4</th>\n",
              "      <td>/cellphones/samsung-galaxy-s8/</td>\n",
              "      <td>5/11/2017</td>\n",
              "      <td>en</td>\n",
              "      <td>us</td>\n",
              "      <td>Verizon Wireless</td>\n",
              "      <td>verizonwireless.com</td>\n",
              "      <td>4.0</td>\n",
              "      <td>10.0</td>\n",
              "      <td>I've now found that i'm in a group of people t...</td>\n",
              "      <td>S Ate Mine</td>\n",
              "      <td>Samsung Galaxy S8</td>\n",
              "    </tr>\n",
              "  </tbody>\n",
              "</table>\n",
              "</div>\n",
              "      <button class=\"colab-df-convert\" onclick=\"convertToInteractive('df-0b781364-4d4c-4f96-bef3-cdf8f3095fea')\"\n",
              "              title=\"Convert this dataframe to an interactive table.\"\n",
              "              style=\"display:none;\">\n",
              "        \n",
              "  <svg xmlns=\"http://www.w3.org/2000/svg\" height=\"24px\"viewBox=\"0 0 24 24\"\n",
              "       width=\"24px\">\n",
              "    <path d=\"M0 0h24v24H0V0z\" fill=\"none\"/>\n",
              "    <path d=\"M18.56 5.44l.94 2.06.94-2.06 2.06-.94-2.06-.94-.94-2.06-.94 2.06-2.06.94zm-11 1L8.5 8.5l.94-2.06 2.06-.94-2.06-.94L8.5 2.5l-.94 2.06-2.06.94zm10 10l.94 2.06.94-2.06 2.06-.94-2.06-.94-.94-2.06-.94 2.06-2.06.94z\"/><path d=\"M17.41 7.96l-1.37-1.37c-.4-.4-.92-.59-1.43-.59-.52 0-1.04.2-1.43.59L10.3 9.45l-7.72 7.72c-.78.78-.78 2.05 0 2.83L4 21.41c.39.39.9.59 1.41.59.51 0 1.02-.2 1.41-.59l7.78-7.78 2.81-2.81c.8-.78.8-2.07 0-2.86zM5.41 20L4 18.59l7.72-7.72 1.47 1.35L5.41 20z\"/>\n",
              "  </svg>\n",
              "      </button>\n",
              "      \n",
              "  <style>\n",
              "    .colab-df-container {\n",
              "      display:flex;\n",
              "      flex-wrap:wrap;\n",
              "      gap: 12px;\n",
              "    }\n",
              "\n",
              "    .colab-df-convert {\n",
              "      background-color: #E8F0FE;\n",
              "      border: none;\n",
              "      border-radius: 50%;\n",
              "      cursor: pointer;\n",
              "      display: none;\n",
              "      fill: #1967D2;\n",
              "      height: 32px;\n",
              "      padding: 0 0 0 0;\n",
              "      width: 32px;\n",
              "    }\n",
              "\n",
              "    .colab-df-convert:hover {\n",
              "      background-color: #E2EBFA;\n",
              "      box-shadow: 0px 1px 2px rgba(60, 64, 67, 0.3), 0px 1px 3px 1px rgba(60, 64, 67, 0.15);\n",
              "      fill: #174EA6;\n",
              "    }\n",
              "\n",
              "    [theme=dark] .colab-df-convert {\n",
              "      background-color: #3B4455;\n",
              "      fill: #D2E3FC;\n",
              "    }\n",
              "\n",
              "    [theme=dark] .colab-df-convert:hover {\n",
              "      background-color: #434B5C;\n",
              "      box-shadow: 0px 1px 3px 1px rgba(0, 0, 0, 0.15);\n",
              "      filter: drop-shadow(0px 1px 2px rgba(0, 0, 0, 0.3));\n",
              "      fill: #FFFFFF;\n",
              "    }\n",
              "  </style>\n",
              "\n",
              "      <script>\n",
              "        const buttonEl =\n",
              "          document.querySelector('#df-0b781364-4d4c-4f96-bef3-cdf8f3095fea button.colab-df-convert');\n",
              "        buttonEl.style.display =\n",
              "          google.colab.kernel.accessAllowed ? 'block' : 'none';\n",
              "\n",
              "        async function convertToInteractive(key) {\n",
              "          const element = document.querySelector('#df-0b781364-4d4c-4f96-bef3-cdf8f3095fea');\n",
              "          const dataTable =\n",
              "            await google.colab.kernel.invokeFunction('convertToInteractive',\n",
              "                                                     [key], {});\n",
              "          if (!dataTable) return;\n",
              "\n",
              "          const docLinkHtml = 'Like what you see? Visit the ' +\n",
              "            '<a target=\"_blank\" href=https://colab.research.google.com/notebooks/data_table.ipynb>data table notebook</a>'\n",
              "            + ' to learn more about interactive tables.';\n",
              "          element.innerHTML = '';\n",
              "          dataTable['output_type'] = 'display_data';\n",
              "          await google.colab.output.renderOutput(dataTable, element);\n",
              "          const docLink = document.createElement('div');\n",
              "          docLink.innerHTML = docLinkHtml;\n",
              "          element.appendChild(docLink);\n",
              "        }\n",
              "      </script>\n",
              "    </div>\n",
              "  </div>\n",
              "  "
            ],
            "text/plain": [
              "                        phone_url  ...                                            product\n",
              "0  /cellphones/samsung-galaxy-s8/  ...                                  Samsung Galaxy S8\n",
              "1  /cellphones/samsung-galaxy-s8/  ...                                  Samsung Galaxy S8\n",
              "2  /cellphones/samsung-galaxy-s8/  ...  Samsung Galaxy S8 (64GB) G950U 5.8\" 4G LTE Unl...\n",
              "3  /cellphones/samsung-galaxy-s8/  ...                      Samsung Galaxy S8 64GB (AT&T)\n",
              "4  /cellphones/samsung-galaxy-s8/  ...                                  Samsung Galaxy S8\n",
              "\n",
              "[5 rows x 11 columns]"
            ]
          },
          "metadata": {},
          "execution_count": 8
        }
      ]
    },
    {
      "cell_type": "code",
      "source": [
        "df.shape"
      ],
      "metadata": {
        "colab": {
          "base_uri": "https://localhost:8080/"
        },
        "id": "6lrTYNffCRhL",
        "outputId": "038a258d-4e86-4e84-c2fe-4f3c181a4269"
      },
      "execution_count": 9,
      "outputs": [
        {
          "output_type": "execute_result",
          "data": {
            "text/plain": [
              "(1415133, 11)"
            ]
          },
          "metadata": {},
          "execution_count": 9
        }
      ]
    },
    {
      "cell_type": "code",
      "source": [
        "(df1.shape[0] + df2.shape[0] + df3.shape[0] + df4.shape[0] + df5.shape[0] + df6.shape[0]) == df.shape[0]"
      ],
      "metadata": {
        "colab": {
          "base_uri": "https://localhost:8080/"
        },
        "id": "LUactHPZG4zl",
        "outputId": "07b4117e-ef72-42c9-dda7-15efd52b8f55"
      },
      "execution_count": 10,
      "outputs": [
        {
          "output_type": "execute_result",
          "data": {
            "text/plain": [
              "True"
            ]
          },
          "metadata": {},
          "execution_count": 10
        }
      ]
    },
    {
      "cell_type": "markdown",
      "source": [
        "Therefore, we can say that all the csv files are merged through pd.concat method, which is verified through pd.DataFrame.shape function that returned True"
      ],
      "metadata": {
        "id": "37ffJ_rRHIc0"
      }
    },
    {
      "cell_type": "markdown",
      "source": [
        "### 1b) Explore, understand the Data and share at least 2 observations"
      ],
      "metadata": {
        "id": "R6F3nir-IbXl"
      }
    },
    {
      "cell_type": "markdown",
      "source": [
        "The Dataframe \"df\" is the merged dataframe"
      ],
      "metadata": {
        "id": "-9Q_r0skIt1z"
      }
    },
    {
      "cell_type": "code",
      "source": [
        "df.info()"
      ],
      "metadata": {
        "colab": {
          "base_uri": "https://localhost:8080/"
        },
        "id": "XPMGjenHI1eE",
        "outputId": "a955db8e-8fbd-4512-dd49-da29c7c13c90"
      },
      "execution_count": 11,
      "outputs": [
        {
          "output_type": "stream",
          "name": "stdout",
          "text": [
            "<class 'pandas.core.frame.DataFrame'>\n",
            "Int64Index: 1415133 entries, 0 to 163836\n",
            "Data columns (total 11 columns):\n",
            " #   Column     Non-Null Count    Dtype  \n",
            "---  ------     --------------    -----  \n",
            " 0   phone_url  1415133 non-null  object \n",
            " 1   date       1415133 non-null  object \n",
            " 2   lang       1415133 non-null  object \n",
            " 3   country    1415133 non-null  object \n",
            " 4   source     1415133 non-null  object \n",
            " 5   domain     1415133 non-null  object \n",
            " 6   score      1351644 non-null  float64\n",
            " 7   score_max  1351644 non-null  float64\n",
            " 8   extract    1395772 non-null  object \n",
            " 9   author     1351931 non-null  object \n",
            " 10  product    1415132 non-null  object \n",
            "dtypes: float64(2), object(9)\n",
            "memory usage: 129.6+ MB\n"
          ]
        }
      ]
    },
    {
      "cell_type": "code",
      "source": [
        "df.shape"
      ],
      "metadata": {
        "colab": {
          "base_uri": "https://localhost:8080/"
        },
        "id": "ojcvRo2lI9pa",
        "outputId": "3494f037-2ebf-4087-fadc-6c997e7a2f3d"
      },
      "execution_count": 12,
      "outputs": [
        {
          "output_type": "execute_result",
          "data": {
            "text/plain": [
              "(1415133, 11)"
            ]
          },
          "metadata": {},
          "execution_count": 12
        }
      ]
    },
    {
      "cell_type": "markdown",
      "source": [
        "1. From the shape of the data we can say that the dataframe has 1415133 records/rows in each feature. <br>\n",
        "2. The features 'score', 'score_max' have 1351644 records of data which are non-null which says that, there may be 63489 records data that includes null values, as the data type is float64. <br>\n",
        "3. The features 'extract', 'author', 'product' also have unexpected/missing values as they contain records less than 1415133 and the datatype of all the three is 'object' type. <br>\n"
      ],
      "metadata": {
        "id": "_DDlVsJgJIYC"
      }
    },
    {
      "cell_type": "code",
      "source": [
        "df.describe()"
      ],
      "metadata": {
        "colab": {
          "base_uri": "https://localhost:8080/",
          "height": 300
        },
        "id": "VgZd1fjeL67Q",
        "outputId": "f83bf349-7ce5-4b35-dde5-730e086a3320"
      },
      "execution_count": 13,
      "outputs": [
        {
          "output_type": "execute_result",
          "data": {
            "text/html": [
              "\n",
              "  <div id=\"df-01e3bf7e-064e-40fe-b894-e082f0d39056\">\n",
              "    <div class=\"colab-df-container\">\n",
              "      <div>\n",
              "<style scoped>\n",
              "    .dataframe tbody tr th:only-of-type {\n",
              "        vertical-align: middle;\n",
              "    }\n",
              "\n",
              "    .dataframe tbody tr th {\n",
              "        vertical-align: top;\n",
              "    }\n",
              "\n",
              "    .dataframe thead th {\n",
              "        text-align: right;\n",
              "    }\n",
              "</style>\n",
              "<table border=\"1\" class=\"dataframe\">\n",
              "  <thead>\n",
              "    <tr style=\"text-align: right;\">\n",
              "      <th></th>\n",
              "      <th>score</th>\n",
              "      <th>score_max</th>\n",
              "    </tr>\n",
              "  </thead>\n",
              "  <tbody>\n",
              "    <tr>\n",
              "      <th>count</th>\n",
              "      <td>1.351644e+06</td>\n",
              "      <td>1351644.0</td>\n",
              "    </tr>\n",
              "    <tr>\n",
              "      <th>mean</th>\n",
              "      <td>8.007060e+00</td>\n",
              "      <td>10.0</td>\n",
              "    </tr>\n",
              "    <tr>\n",
              "      <th>std</th>\n",
              "      <td>2.616121e+00</td>\n",
              "      <td>0.0</td>\n",
              "    </tr>\n",
              "    <tr>\n",
              "      <th>min</th>\n",
              "      <td>2.000000e-01</td>\n",
              "      <td>10.0</td>\n",
              "    </tr>\n",
              "    <tr>\n",
              "      <th>25%</th>\n",
              "      <td>7.200000e+00</td>\n",
              "      <td>10.0</td>\n",
              "    </tr>\n",
              "    <tr>\n",
              "      <th>50%</th>\n",
              "      <td>9.200000e+00</td>\n",
              "      <td>10.0</td>\n",
              "    </tr>\n",
              "    <tr>\n",
              "      <th>75%</th>\n",
              "      <td>1.000000e+01</td>\n",
              "      <td>10.0</td>\n",
              "    </tr>\n",
              "    <tr>\n",
              "      <th>max</th>\n",
              "      <td>1.000000e+01</td>\n",
              "      <td>10.0</td>\n",
              "    </tr>\n",
              "  </tbody>\n",
              "</table>\n",
              "</div>\n",
              "      <button class=\"colab-df-convert\" onclick=\"convertToInteractive('df-01e3bf7e-064e-40fe-b894-e082f0d39056')\"\n",
              "              title=\"Convert this dataframe to an interactive table.\"\n",
              "              style=\"display:none;\">\n",
              "        \n",
              "  <svg xmlns=\"http://www.w3.org/2000/svg\" height=\"24px\"viewBox=\"0 0 24 24\"\n",
              "       width=\"24px\">\n",
              "    <path d=\"M0 0h24v24H0V0z\" fill=\"none\"/>\n",
              "    <path d=\"M18.56 5.44l.94 2.06.94-2.06 2.06-.94-2.06-.94-.94-2.06-.94 2.06-2.06.94zm-11 1L8.5 8.5l.94-2.06 2.06-.94-2.06-.94L8.5 2.5l-.94 2.06-2.06.94zm10 10l.94 2.06.94-2.06 2.06-.94-2.06-.94-.94-2.06-.94 2.06-2.06.94z\"/><path d=\"M17.41 7.96l-1.37-1.37c-.4-.4-.92-.59-1.43-.59-.52 0-1.04.2-1.43.59L10.3 9.45l-7.72 7.72c-.78.78-.78 2.05 0 2.83L4 21.41c.39.39.9.59 1.41.59.51 0 1.02-.2 1.41-.59l7.78-7.78 2.81-2.81c.8-.78.8-2.07 0-2.86zM5.41 20L4 18.59l7.72-7.72 1.47 1.35L5.41 20z\"/>\n",
              "  </svg>\n",
              "      </button>\n",
              "      \n",
              "  <style>\n",
              "    .colab-df-container {\n",
              "      display:flex;\n",
              "      flex-wrap:wrap;\n",
              "      gap: 12px;\n",
              "    }\n",
              "\n",
              "    .colab-df-convert {\n",
              "      background-color: #E8F0FE;\n",
              "      border: none;\n",
              "      border-radius: 50%;\n",
              "      cursor: pointer;\n",
              "      display: none;\n",
              "      fill: #1967D2;\n",
              "      height: 32px;\n",
              "      padding: 0 0 0 0;\n",
              "      width: 32px;\n",
              "    }\n",
              "\n",
              "    .colab-df-convert:hover {\n",
              "      background-color: #E2EBFA;\n",
              "      box-shadow: 0px 1px 2px rgba(60, 64, 67, 0.3), 0px 1px 3px 1px rgba(60, 64, 67, 0.15);\n",
              "      fill: #174EA6;\n",
              "    }\n",
              "\n",
              "    [theme=dark] .colab-df-convert {\n",
              "      background-color: #3B4455;\n",
              "      fill: #D2E3FC;\n",
              "    }\n",
              "\n",
              "    [theme=dark] .colab-df-convert:hover {\n",
              "      background-color: #434B5C;\n",
              "      box-shadow: 0px 1px 3px 1px rgba(0, 0, 0, 0.15);\n",
              "      filter: drop-shadow(0px 1px 2px rgba(0, 0, 0, 0.3));\n",
              "      fill: #FFFFFF;\n",
              "    }\n",
              "  </style>\n",
              "\n",
              "      <script>\n",
              "        const buttonEl =\n",
              "          document.querySelector('#df-01e3bf7e-064e-40fe-b894-e082f0d39056 button.colab-df-convert');\n",
              "        buttonEl.style.display =\n",
              "          google.colab.kernel.accessAllowed ? 'block' : 'none';\n",
              "\n",
              "        async function convertToInteractive(key) {\n",
              "          const element = document.querySelector('#df-01e3bf7e-064e-40fe-b894-e082f0d39056');\n",
              "          const dataTable =\n",
              "            await google.colab.kernel.invokeFunction('convertToInteractive',\n",
              "                                                     [key], {});\n",
              "          if (!dataTable) return;\n",
              "\n",
              "          const docLinkHtml = 'Like what you see? Visit the ' +\n",
              "            '<a target=\"_blank\" href=https://colab.research.google.com/notebooks/data_table.ipynb>data table notebook</a>'\n",
              "            + ' to learn more about interactive tables.';\n",
              "          element.innerHTML = '';\n",
              "          dataTable['output_type'] = 'display_data';\n",
              "          await google.colab.output.renderOutput(dataTable, element);\n",
              "          const docLink = document.createElement('div');\n",
              "          docLink.innerHTML = docLinkHtml;\n",
              "          element.appendChild(docLink);\n",
              "        }\n",
              "      </script>\n",
              "    </div>\n",
              "  </div>\n",
              "  "
            ],
            "text/plain": [
              "              score  score_max\n",
              "count  1.351644e+06  1351644.0\n",
              "mean   8.007060e+00       10.0\n",
              "std    2.616121e+00        0.0\n",
              "min    2.000000e-01       10.0\n",
              "25%    7.200000e+00       10.0\n",
              "50%    9.200000e+00       10.0\n",
              "75%    1.000000e+01       10.0\n",
              "max    1.000000e+01       10.0"
            ]
          },
          "metadata": {},
          "execution_count": 13
        }
      ]
    },
    {
      "cell_type": "markdown",
      "source": [
        "The standard deviation for score_max feature is 0.0, which means there can be no proper distribution of data. And the mean, median and the mode of the feature lie on the same line. <br>\n"
      ],
      "metadata": {
        "id": "3jlwvbbeOwzd"
      }
    },
    {
      "cell_type": "code",
      "source": [
        "sns.heatmap(df.corr())"
      ],
      "metadata": {
        "colab": {
          "base_uri": "https://localhost:8080/",
          "height": 286
        },
        "id": "KMAAiJlSOR5t",
        "outputId": "a5c4538e-0585-43dc-8f40-f67778a5e819"
      },
      "execution_count": 14,
      "outputs": [
        {
          "output_type": "execute_result",
          "data": {
            "text/plain": [
              "<matplotlib.axes._subplots.AxesSubplot at 0x7f2286e3f390>"
            ]
          },
          "metadata": {},
          "execution_count": 14
        },
        {
          "output_type": "display_data",
          "data": {
            "image/png": "[encoded data removed]",
            "text/plain": [
              "<Figure size 432x288 with 2 Axes>"
            ]
          },
          "metadata": {
            "needs_background": "light"
          }
        }
      ]
    },
    {
      "cell_type": "markdown",
      "source": [
        "Even the correlation of the data is not proper. The score is showing correlation with itself."
      ],
      "metadata": {
        "id": "y0-xmAciOtZz"
      }
    },
    {
      "cell_type": "markdown",
      "source": [
        "### 1c) Round off scores to the nearest integers."
      ],
      "metadata": {
        "id": "_lOYdktSOtgW"
      }
    },
    {
      "cell_type": "code",
      "source": [
        "df['score']"
      ],
      "metadata": {
        "colab": {
          "base_uri": "https://localhost:8080/"
        },
        "id": "Y2a2z5jJP973",
        "outputId": "5f697f18-ef0d-48dc-879d-0badabe15a0d"
      },
      "execution_count": 15,
      "outputs": [
        {
          "output_type": "execute_result",
          "data": {
            "text/plain": [
              "0         10.0\n",
              "1         10.0\n",
              "2          6.0\n",
              "3          9.2\n",
              "4          4.0\n",
              "          ... \n",
              "163832     2.0\n",
              "163833    10.0\n",
              "163834     2.0\n",
              "163835     8.0\n",
              "163836     2.0\n",
              "Name: score, Length: 1415133, dtype: float64"
            ]
          },
          "metadata": {},
          "execution_count": 15
        }
      ]
    },
    {
      "cell_type": "code",
      "source": [
        "df['score'] = df['score'].fillna(df['score'].mean()).astype(int)\n",
        "  \n"
      ],
      "metadata": {
        "id": "SaZFYZZ4P-y7"
      },
      "execution_count": 16,
      "outputs": []
    },
    {
      "cell_type": "code",
      "source": [
        "for i in df['score']:\n",
        "  i = round(i)\n",
        "  "
      ],
      "metadata": {
        "id": "qtitWCn5P_Qf"
      },
      "execution_count": 17,
      "outputs": []
    },
    {
      "cell_type": "code",
      "source": [
        "df.head()"
      ],
      "metadata": {
        "colab": {
          "base_uri": "https://localhost:8080/",
          "height": 337
        },
        "id": "152M8SqPP_VM",
        "outputId": "18346cbf-77eb-4b6c-f933-d3279924a25c"
      },
      "execution_count": 18,
      "outputs": [
        {
          "output_type": "execute_result",
          "data": {
            "text/html": [
              "\n",
              "  <div id=\"df-f72895c8-1336-4f94-a74f-bd81cd15d610\">\n",
              "    <div class=\"colab-df-container\">\n",
              "      <div>\n",
              "<style scoped>\n",
              "    .dataframe tbody tr th:only-of-type {\n",
              "        vertical-align: middle;\n",
              "    }\n",
              "\n",
              "    .dataframe tbody tr th {\n",
              "        vertical-align: top;\n",
              "    }\n",
              "\n",
              "    .dataframe thead th {\n",
              "        text-align: right;\n",
              "    }\n",
              "</style>\n",
              "<table border=\"1\" class=\"dataframe\">\n",
              "  <thead>\n",
              "    <tr style=\"text-align: right;\">\n",
              "      <th></th>\n",
              "      <th>phone_url</th>\n",
              "      <th>date</th>\n",
              "      <th>lang</th>\n",
              "      <th>country</th>\n",
              "      <th>source</th>\n",
              "      <th>domain</th>\n",
              "      <th>score</th>\n",
              "      <th>score_max</th>\n",
              "      <th>extract</th>\n",
              "      <th>author</th>\n",
              "      <th>product</th>\n",
              "    </tr>\n",
              "  </thead>\n",
              "  <tbody>\n",
              "    <tr>\n",
              "      <th>0</th>\n",
              "      <td>/cellphones/samsung-galaxy-s8/</td>\n",
              "      <td>5/2/2017</td>\n",
              "      <td>en</td>\n",
              "      <td>us</td>\n",
              "      <td>Verizon Wireless</td>\n",
              "      <td>verizonwireless.com</td>\n",
              "      <td>10</td>\n",
              "      <td>10.0</td>\n",
              "      <td>As a diehard Samsung fan who has had every Sam...</td>\n",
              "      <td>CarolAnn35</td>\n",
              "      <td>Samsung Galaxy S8</td>\n",
              "    </tr>\n",
              "    <tr>\n",
              "      <th>1</th>\n",
              "      <td>/cellphones/samsung-galaxy-s8/</td>\n",
              "      <td>4/28/2017</td>\n",
              "      <td>en</td>\n",
              "      <td>us</td>\n",
              "      <td>Phone Arena</td>\n",
              "      <td>phonearena.com</td>\n",
              "      <td>10</td>\n",
              "      <td>10.0</td>\n",
              "      <td>Love the phone. the phone is sleek and smooth ...</td>\n",
              "      <td>james0923</td>\n",
              "      <td>Samsung Galaxy S8</td>\n",
              "    </tr>\n",
              "    <tr>\n",
              "      <th>2</th>\n",
              "      <td>/cellphones/samsung-galaxy-s8/</td>\n",
              "      <td>5/4/2017</td>\n",
              "      <td>en</td>\n",
              "      <td>us</td>\n",
              "      <td>Amazon</td>\n",
              "      <td>amazon.com</td>\n",
              "      <td>6</td>\n",
              "      <td>10.0</td>\n",
              "      <td>Adequate feel. Nice heft. Processor's still sl...</td>\n",
              "      <td>R. Craig</td>\n",
              "      <td>Samsung Galaxy S8 (64GB) G950U 5.8\" 4G LTE Unl...</td>\n",
              "    </tr>\n",
              "    <tr>\n",
              "      <th>3</th>\n",
              "      <td>/cellphones/samsung-galaxy-s8/</td>\n",
              "      <td>5/2/2017</td>\n",
              "      <td>en</td>\n",
              "      <td>us</td>\n",
              "      <td>Samsung</td>\n",
              "      <td>samsung.com</td>\n",
              "      <td>9</td>\n",
              "      <td>10.0</td>\n",
              "      <td>Never disappointed. One of the reasons I've be...</td>\n",
              "      <td>Buster2020</td>\n",
              "      <td>Samsung Galaxy S8 64GB (AT&amp;T)</td>\n",
              "    </tr>\n",
              "    <tr>\n",
              "      <th>4</th>\n",
              "      <td>/cellphones/samsung-galaxy-s8/</td>\n",
              "      <td>5/11/2017</td>\n",
              "      <td>en</td>\n",
              "      <td>us</td>\n",
              "      <td>Verizon Wireless</td>\n",
              "      <td>verizonwireless.com</td>\n",
              "      <td>4</td>\n",
              "      <td>10.0</td>\n",
              "      <td>I've now found that i'm in a group of people t...</td>\n",
              "      <td>S Ate Mine</td>\n",
              "      <td>Samsung Galaxy S8</td>\n",
              "    </tr>\n",
              "  </tbody>\n",
              "</table>\n",
              "</div>\n",
              "      <button class=\"colab-df-convert\" onclick=\"convertToInteractive('df-f72895c8-1336-4f94-a74f-bd81cd15d610')\"\n",
              "              title=\"Convert this dataframe to an interactive table.\"\n",
              "              style=\"display:none;\">\n",
              "        \n",
              "  <svg xmlns=\"http://www.w3.org/2000/svg\" height=\"24px\"viewBox=\"0 0 24 24\"\n",
              "       width=\"24px\">\n",
              "    <path d=\"M0 0h24v24H0V0z\" fill=\"none\"/>\n",
              "    <path d=\"M18.56 5.44l.94 2.06.94-2.06 2.06-.94-2.06-.94-.94-2.06-.94 2.06-2.06.94zm-11 1L8.5 8.5l.94-2.06 2.06-.94-2.06-.94L8.5 2.5l-.94 2.06-2.06.94zm10 10l.94 2.06.94-2.06 2.06-.94-2.06-.94-.94-2.06-.94 2.06-2.06.94z\"/><path d=\"M17.41 7.96l-1.37-1.37c-.4-.4-.92-.59-1.43-.59-.52 0-1.04.2-1.43.59L10.3 9.45l-7.72 7.72c-.78.78-.78 2.05 0 2.83L4 21.41c.39.39.9.59 1.41.59.51 0 1.02-.2 1.41-.59l7.78-7.78 2.81-2.81c.8-.78.8-2.07 0-2.86zM5.41 20L4 18.59l7.72-7.72 1.47 1.35L5.41 20z\"/>\n",
              "  </svg>\n",
              "      </button>\n",
              "      \n",
              "  <style>\n",
              "    .colab-df-container {\n",
              "      display:flex;\n",
              "      flex-wrap:wrap;\n",
              "      gap: 12px;\n",
              "    }\n",
              "\n",
              "    .colab-df-convert {\n",
              "      background-color: #E8F0FE;\n",
              "      border: none;\n",
              "      border-radius: 50%;\n",
              "      cursor: pointer;\n",
              "      display: none;\n",
              "      fill: #1967D2;\n",
              "      height: 32px;\n",
              "      padding: 0 0 0 0;\n",
              "      width: 32px;\n",
              "    }\n",
              "\n",
              "    .colab-df-convert:hover {\n",
              "      background-color: #E2EBFA;\n",
              "      box-shadow: 0px 1px 2px rgba(60, 64, 67, 0.3), 0px 1px 3px 1px rgba(60, 64, 67, 0.15);\n",
              "      fill: #174EA6;\n",
              "    }\n",
              "\n",
              "    [theme=dark] .colab-df-convert {\n",
              "      background-color: #3B4455;\n",
              "      fill: #D2E3FC;\n",
              "    }\n",
              "\n",
              "    [theme=dark] .colab-df-convert:hover {\n",
              "      background-color: #434B5C;\n",
              "      box-shadow: 0px 1px 3px 1px rgba(0, 0, 0, 0.15);\n",
              "      filter: drop-shadow(0px 1px 2px rgba(0, 0, 0, 0.3));\n",
              "      fill: #FFFFFF;\n",
              "    }\n",
              "  </style>\n",
              "\n",
              "      <script>\n",
              "        const buttonEl =\n",
              "          document.querySelector('#df-f72895c8-1336-4f94-a74f-bd81cd15d610 button.colab-df-convert');\n",
              "        buttonEl.style.display =\n",
              "          google.colab.kernel.accessAllowed ? 'block' : 'none';\n",
              "\n",
              "        async function convertToInteractive(key) {\n",
              "          const element = document.querySelector('#df-f72895c8-1336-4f94-a74f-bd81cd15d610');\n",
              "          const dataTable =\n",
              "            await google.colab.kernel.invokeFunction('convertToInteractive',\n",
              "                                                     [key], {});\n",
              "          if (!dataTable) return;\n",
              "\n",
              "          const docLinkHtml = 'Like what you see? Visit the ' +\n",
              "            '<a target=\"_blank\" href=https://colab.research.google.com/notebooks/data_table.ipynb>data table notebook</a>'\n",
              "            + ' to learn more about interactive tables.';\n",
              "          element.innerHTML = '';\n",
              "          dataTable['output_type'] = 'display_data';\n",
              "          await google.colab.output.renderOutput(dataTable, element);\n",
              "          const docLink = document.createElement('div');\n",
              "          docLink.innerHTML = docLinkHtml;\n",
              "          element.appendChild(docLink);\n",
              "        }\n",
              "      </script>\n",
              "    </div>\n",
              "  </div>\n",
              "  "
            ],
            "text/plain": [
              "                        phone_url  ...                                            product\n",
              "0  /cellphones/samsung-galaxy-s8/  ...                                  Samsung Galaxy S8\n",
              "1  /cellphones/samsung-galaxy-s8/  ...                                  Samsung Galaxy S8\n",
              "2  /cellphones/samsung-galaxy-s8/  ...  Samsung Galaxy S8 (64GB) G950U 5.8\" 4G LTE Unl...\n",
              "3  /cellphones/samsung-galaxy-s8/  ...                      Samsung Galaxy S8 64GB (AT&T)\n",
              "4  /cellphones/samsung-galaxy-s8/  ...                                  Samsung Galaxy S8\n",
              "\n",
              "[5 rows x 11 columns]"
            ]
          },
          "metadata": {},
          "execution_count": 18
        }
      ]
    },
    {
      "cell_type": "code",
      "source": [
        "df.score"
      ],
      "metadata": {
        "colab": {
          "base_uri": "https://localhost:8080/"
        },
        "id": "Cuav1ZysVMle",
        "outputId": "68f04497-f360-4faa-c8f6-c5a854831b75"
      },
      "execution_count": 19,
      "outputs": [
        {
          "output_type": "execute_result",
          "data": {
            "text/plain": [
              "0         10\n",
              "1         10\n",
              "2          6\n",
              "3          9\n",
              "4          4\n",
              "          ..\n",
              "163832     2\n",
              "163833    10\n",
              "163834     2\n",
              "163835     8\n",
              "163836     2\n",
              "Name: score, Length: 1415133, dtype: int64"
            ]
          },
          "metadata": {},
          "execution_count": 19
        }
      ]
    },
    {
      "cell_type": "markdown",
      "source": [
        "we can see that above the data type of the feature df.score has been changed from float64 to int64"
      ],
      "metadata": {
        "id": "vIn6RMDkVLww"
      }
    },
    {
      "cell_type": "markdown",
      "source": [
        "Therefore we can see that in the above dataframe the feature score has no decimals beside it and all the records are converted into integers"
      ],
      "metadata": {
        "id": "GShKi9itP_Ze"
      }
    },
    {
      "cell_type": "markdown",
      "source": [
        "### 1d) Check for missing values. Impute the missing values, if any"
      ],
      "metadata": {
        "id": "gd0ph3taP_b9"
      }
    },
    {
      "cell_type": "code",
      "source": [
        "df.replace(to_replace=' ', value=np.nan, inplace=True)"
      ],
      "metadata": {
        "id": "SjGtFwH5Otjf"
      },
      "execution_count": 20,
      "outputs": []
    },
    {
      "cell_type": "code",
      "source": [
        "df.isna().sum()"
      ],
      "metadata": {
        "colab": {
          "base_uri": "https://localhost:8080/"
        },
        "id": "FBFV_T8KWjsZ",
        "outputId": "f78420ab-ccb6-4918-a5f1-7fae17e3b55a"
      },
      "execution_count": 35,
      "outputs": [
        {
          "output_type": "execute_result",
          "data": {
            "text/plain": [
              "phone_url        0\n",
              "date             0\n",
              "lang             0\n",
              "country          0\n",
              "source           0\n",
              "domain           0\n",
              "score            0\n",
              "score_max    63489\n",
              "extract      19361\n",
              "author       63202\n",
              "product          1\n",
              "dtype: int64"
            ]
          },
          "metadata": {},
          "execution_count": 35
        }
      ]
    },
    {
      "cell_type": "code",
      "source": [
        ""
      ],
      "metadata": {
        "id": "FLnhSKEqW00X"
      },
      "execution_count": 21,
      "outputs": []
    },
    {
      "cell_type": "code",
      "source": [
        ""
      ],
      "metadata": {
        "id": "wixS5tfjWjz9"
      },
      "execution_count": 21,
      "outputs": []
    },
    {
      "cell_type": "code",
      "source": [
        ""
      ],
      "metadata": {
        "id": "f36DOMqVWj7-"
      },
      "execution_count": 21,
      "outputs": []
    },
    {
      "cell_type": "code",
      "source": [
        ""
      ],
      "metadata": {
        "id": "Hjwf3P7EWkBd"
      },
      "execution_count": 21,
      "outputs": []
    },
    {
      "cell_type": "code",
      "source": [
        ""
      ],
      "metadata": {
        "id": "_QkbcTL4WkHV"
      },
      "execution_count": 21,
      "outputs": []
    }
  ]
}